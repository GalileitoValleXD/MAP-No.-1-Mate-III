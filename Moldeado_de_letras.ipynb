{
  "nbformat": 4,
  "nbformat_minor": 0,
  "metadata": {
    "colab": {
      "name": "Moldeado_de_letras.ipynb",
      "provenance": [],
      "collapsed_sections": []
    },
    "kernelspec": {
      "display_name": "Python 3",
      "name": "python3"
    }
  },
  "cells": [
    {
      "cell_type": "markdown",
      "metadata": {
        "id": "aBGOAdWNr5b_"
      },
      "source": [
        "![MAP1.png](https://drive.google.com/uc?export=view&id=1ieqFIi_PJWMdQBT9w0K9zykhpeq8eKNB)"
      ]
    },
    {
      "cell_type": "markdown",
      "metadata": {
        "id": "jE3Sfy2UsNFt"
      },
      "source": [
        "# 1. Introducción.\n",
        "\n",
        "Una curva de Bézier está determinada mediante cuatro **puntos de control**, $P_0(x_0, y_0)$, $P_1(x_1, y_1)$, $P_2(x_2, y_2)$ y $P_3(x_3, y_3)$. Dicha curva se define mediante las siguientes **ecuaciones paramétricas**:\n",
        "\n",
        "$$x=x_0\\, (1-t)^3 + 3x_1\\, t(1-t)^2 + 3x_2\\, t^2(1-t) + x_3\\, t^3$$\n",
        "$$y=y_0\\, (1-t)^3 + 3y_1\\, t(1-t)^2 + 3y_2t^2(1-t) + y_3 \\, t^3,$$\n",
        "\n",
        "\n",
        "en donde $0\\leq t \\leq 1$.  Observe que cuando $t = 0$, se tiene que $(x, y) = P_0(x_0, y_0)$ y cuando $t = 1$ se tiene $(x, y) = P_3(x_3, y_3)$. Por lo tanto,  dicha curva inicia en $P_0$ y termina en $P_3$.\tLa siguiente figura ilustra algunas curvas de Bézier con los puntos de control ilustrados, note como la curvas se ajustan a medida que se varían dichos puntos de control. \n",
        "\n",
        "![MAP1.png](https://drive.google.com/uc?export=view&id=1TI7KnfK8pVAnCaxyx49KZqwPIC47NuEv)\n",
        "\n",
        "\n",
        "\n",
        "\n",
        "\n",
        "\t"
      ]
    },
    {
      "cell_type": "markdown",
      "metadata": {
        "id": "cV8OAyIQ8nM8"
      },
      "source": [
        "## 1.1. Ejemplo de Curvas de Bezier con Python\r\n",
        "Librerias necesarias para gráficas\r\n",
        "\r\n",
        "\r\n",
        "```\r\n",
        "import numpy as np\r\n",
        "import matplotlib.pyplot as plt\r\n",
        "```\r\n",
        "La restricción del intervalo para el parámetro $t$ se puede realizar con la siguiente linea de código:\r\n",
        "\r\n",
        "\r\n",
        "\r\n",
        "```\r\n",
        "t = np.linspace(0,1,100)\r\n",
        "```\r\n",
        "\r\n",
        "donde el intervalo mostrado es $0\\leq t \\leq 1$ con uso de 100 valores de muestra en el intervalo. Los puntos de control para la curva de Bezier se definen en las siguientes lineas:\r\n",
        "\r\n",
        "\r\n",
        "\r\n",
        "*   $P_0(x_0,y_0)$:\r\n",
        "\r\n",
        "\r\n",
        "```\r\n",
        "x_0 = -3\r\n",
        "y_0 = 2\r\n",
        "```\r\n",
        "\r\n",
        "*   $P_1(x_1,y_1)$:\r\n",
        "\r\n",
        "\r\n",
        "```\r\n",
        "x_1 = 2\r\n",
        "y_1 = 5\r\n",
        "```\r\n",
        "\r\n",
        "*   $P_2(x_2,y_2)$:\r\n",
        "\r\n",
        "\r\n",
        "```\r\n",
        "x_2 = 5\r\n",
        "y_2 = 5\r\n",
        "```\r\n",
        "\r\n",
        "*   $P_3(x_3,y_3)$:\r\n",
        "\r\n",
        "\r\n",
        "```\r\n",
        "x_3 = 6\r\n",
        "y_3 = -1\r\n",
        "```\r\n",
        "\r\n",
        "Las ecuaciones paramétricas para la Curva de Bezier vistas en la introducción se definen como:\r\n",
        "\r\n",
        "\r\n",
        "```\r\n",
        "x = x_0*(1-t)**3 + 3*x_1*t*(1-t)**2 + 3*x_2*t**2*(1-t) + x_3*t**3\r\n",
        "y = y_0*(1-t)**3 + 3*y_1*t*(1-t)**2 + 3*y_2*t**2*(1-t) + y_3*t**3\r\n",
        "```\r\n",
        "\r\n",
        "Para graficar la curva de Bezier anterior definida se utiliza la librería *Mathplotlib* de Python.\r\n",
        "\r\n",
        "\r\n",
        "```\r\n",
        "plt.plot(x,y,c=(1,0.5,0.5),lw=4) + plt.plot(0,0,c=(1,0.5,0.5),lw=4)\r\n",
        "```"
      ]
    },
    {
      "cell_type": "markdown",
      "metadata": {
        "id": "liZ-lzlHC2Uc"
      },
      "source": [
        "## 1.2. Simulación del Ejemplo\r\n",
        "Las anteriores lineas y definiciones las puede simular en la siguiente parte de código. "
      ]
    },
    {
      "cell_type": "code",
      "metadata": {
        "id": "cLYNzFWsIhpC",
        "colab": {
          "base_uri": "https://localhost:8080/",
          "height": 312
        },
        "outputId": "25d0fd31-869c-4c12-d7df-6fca34a4cb92"
      },
      "source": [
        "###### Agregue las lineas de código que considere necesarias para este inciso.\r\n",
        "import numpy as np\r\n",
        "import matplotlib.pyplot as plt\r\n",
        "\r\n",
        "t = np.linspace(0,1,100)\r\n",
        "\r\n",
        "x_0 = 4\r\n",
        "y_0 = 1\r\n",
        " \r\n",
        "x_1 = 28\r\n",
        "y_1 = 48\r\n",
        "\r\n",
        "x_2 = 50\r\n",
        "y_2 = 42\r\n",
        "\r\n",
        "x_3 = 40\r\n",
        "y_3 = 5\r\n",
        "\r\n",
        "x = x_0*(1-t)**3 + 3*x_1*t*(1-t)**2 + 3*x_2*t**2*(1-t) + x_3*t**3\r\n",
        "y = y_0*(1-t)**3 + 3*y_1*t*(1-t)**2 + 3*y_2*t**2*(1-t) + y_3*t**3\r\n",
        "\r\n",
        "\r\n",
        "# Titulo de la gráfica y ejes\r\n",
        "plt.title('Curva de Bezier') \r\n",
        "plt.xlabel('Eje x') \r\n",
        "plt.ylabel('Eje y') \r\n",
        "\r\n",
        "\r\n",
        "# Curva de Bezier\r\n",
        "plt.plot(x,y,c=(1,0.5,0.5),lw=4)\r\n",
        "\r\n",
        "\r\n",
        "######"
      ],
      "execution_count": null,
      "outputs": [
        {
          "output_type": "execute_result",
          "data": {
            "text/plain": [
              "[<matplotlib.lines.Line2D at 0x7f804adda950>]"
            ]
          },
          "metadata": {
            "tags": []
          },
          "execution_count": 28
        },
        {
          "output_type": "display_data",
          "data": {
            "image/png": "[encoded data removed]",
            "text/plain": [
              "<Figure size 432x288 with 1 Axes>"
            ]
          },
          "metadata": {
            "tags": [],
            "needs_background": "light"
          }
        }
      ]
    },
    {
      "cell_type": "code",
      "metadata": {
        "id": "-ZSMQpkvrma3",
        "colab": {
          "base_uri": "https://localhost:8080/",
          "height": 312
        },
        "outputId": "f97423a8-5d55-410a-8542-ee9e5d5eb30e"
      },
      "source": [
        "import numpy as np\r\n",
        "import matplotlib.pyplot as plt\r\n",
        "\r\n",
        "t = np.linspace(0,1,100)\r\n",
        "\r\n",
        "x_0 = 4\r\n",
        "y_0 = 1\r\n",
        " \r\n",
        "x_1 = 28\r\n",
        "y_1 = 48\r\n",
        "\r\n",
        "x_2 = 50\r\n",
        "y_2 = 42\r\n",
        "\r\n",
        "x_3 = 40\r\n",
        "y_3 = 5\r\n",
        "\r\n",
        "x = x_0*(1-t)**3 + 3*x_1*t*(1-t)**2 + 3*x_2*t**2*(1-t) + x_3*t**3\r\n",
        "y = y_0*(1-t)**3 + 3*y_1*t*(1-t)**2 + 3*y_2*t**2*(1-t) + y_3*t**3\r\n",
        "\r\n",
        "\r\n",
        "# Titulo de la gráfica y ejes\r\n",
        "plt.title('Curva de Bezier') \r\n",
        "plt.xlabel('Eje x') \r\n",
        "plt.ylabel('Eje y') \r\n",
        "\r\n",
        "# Gráfica de los Puntos P0, P1, P2, P3  \r\n",
        "x_puntos = [x_0,x_1,x_2,x_3] \r\n",
        "y_puntos = [y_0,y_1,y_2,y_3] \r\n",
        "plt.plot(x_puntos, y_puntos, color='green', linestyle='dashed', linewidth = 3, \r\n",
        "         marker='o', markerfacecolor='blue', markersize=12) \r\n",
        "\r\n",
        "# Curva de Bezier\r\n",
        "plt.plot(x,y,c=(1,0.5,0.5),lw=4)"
      ],
      "execution_count": 1,
      "outputs": [
        {
          "output_type": "execute_result",
          "data": {
            "text/plain": [
              "[<matplotlib.lines.Line2D at 0x7f550e3252d0>]"
            ]
          },
          "metadata": {
            "tags": []
          },
          "execution_count": 1
        },
        {
          "output_type": "display_data",
          "data": {
            "image/png": "[encoded data removed]",
            "text/plain": [
              "<Figure size 432x288 with 1 Axes>"
            ]
          },
          "metadata": {
            "tags": [],
            "needs_background": "light"
          }
        }
      ]
    },
    {
      "cell_type": "code",
      "metadata": {
        "id": "MBbv0ukmI3PJ",
        "colab": {
          "base_uri": "https://localhost:8080/",
          "height": 312
        },
        "outputId": "fdc4faa8-3cdc-4f19-f394-3676cc5e3a44"
      },
      "source": [
        "###### Agregue las lineas de código que considere necesarias para este inciso.\r\n",
        "\r\n",
        "import numpy as np\r\n",
        "import matplotlib.pyplot as plt\r\n",
        "\r\n",
        "t = np.linspace(0,1,100)\r\n",
        "\r\n",
        "x_0 = 4\r\n",
        "y_0 = 1\r\n",
        " \r\n",
        "x_1 = 28\r\n",
        "y_1 = 48\r\n",
        "\r\n",
        "x_2 = 50\r\n",
        "y_2 = 42\r\n",
        "\r\n",
        "x_3 = 40\r\n",
        "y_3 = 5\r\n",
        "\r\n",
        "x = x_0*(1-t)**3 + 3*x_1*t*(1-t)**2 + 3*x_2*t**2*(1-t) + x_3*t**3\r\n",
        "y = y_0*(1-t)**3 + 3*y_1*t*(1-t)**2 + 3*y_2*t**2*(1-t) + y_3*t**3\r\n",
        "\r\n",
        "\r\n",
        "# Titulo de la gráfica y ejes\r\n",
        "plt.title('Curva de Bezier') \r\n",
        "plt.xlabel('Eje x') \r\n",
        "plt.ylabel('Eje y') \r\n",
        "\r\n",
        "# Gráfica de los Puntos P0, P1, P2, P3  \r\n",
        "x_puntos = [x_0,x_1,x_2,x_3] \r\n",
        "y_puntos = [y_0,y_1,y_2,y_3] \r\n",
        "plt.plot(x_puntos, y_puntos, color='green', linestyle='dashed', linewidth = 3, \r\n",
        "         marker='o', markerfacecolor='blue', markersize=12) \r\n",
        "\r\n",
        "# Curva de Bezier\r\n",
        "plt.plot(x,y,c=(1,0.5,0.5),lw=4)\r\n",
        "\r\n",
        "\r\n",
        "######"
      ],
      "execution_count": null,
      "outputs": [
        {
          "output_type": "execute_result",
          "data": {
            "text/plain": [
              "[<matplotlib.lines.Line2D at 0x7f804ad523d0>]"
            ]
          },
          "metadata": {
            "tags": []
          },
          "execution_count": 29
        },
        {
          "output_type": "display_data",
          "data": {
            "image/png": "[encoded data removed]",
            "text/plain": [
              "<Figure size 432x288 with 1 Axes>"
            ]
          },
          "metadata": {
            "tags": [],
            "needs_background": "light"
          }
        }
      ]
    },
    {
      "cell_type": "markdown",
      "metadata": {
        "id": "gc1e_oY2H-Ib"
      },
      "source": [
        "# 2. Guía Práctica - Parte 1\r\n"
      ]
    },
    {
      "cell_type": "markdown",
      "metadata": {
        "id": "g4xcrJGeDmnj"
      },
      "source": [
        "Adicional usted encuentra como colocar nombre a su gráfica, etiqueta de ejes y como graficar rectas entre puntos."
      ]
    },
    {
      "cell_type": "markdown",
      "metadata": {
        "id": "y0X-MnJYIYij"
      },
      "source": [
        "1.   Grafique la curva de Bézier generada por puntos de control $P_0(4,1)$, $P_1(28, 48)$, $P_2(50,42)$ y $P_3(40,5)$.\r\n"
      ]
    },
    {
      "cell_type": "markdown",
      "metadata": {
        "id": "WRHKXSwBIu6C"
      },
      "source": [
        "\r\n",
        "2.   En la misma gráfica, trace los segmentos de recta $\\overline{P_0P_1}$, $\\overline{P_1P_2}$ \r\n",
        "\t\ty $\\overline{P_2P_3}$.\r\n",
        "\t\tNotar como los puntos de control medios $P_1$ y $P_2$ no están sobre la curva.\r\n",
        "\t\tLa curva inicia en $P_0$, se dirige hacia $P_1$ y $P_2$ sin alcanzarlos y termina\r\n",
        "\t\ten $P_3$.\r\n",
        "\r\n"
      ]
    },
    {
      "cell_type": "markdown",
      "metadata": {
        "id": "P94YGHj0I4I5"
      },
      "source": [
        "3.   Algunas impresoras láser usan las curvas de Bézier para representar letras y otros símbolos. Experimente con puntos de control hasta que encuentre una curva de Bézier que dé una representación razonable de la letra $C$.\r\n",
        "\r\n"
      ]
    },
    {
      "cell_type": "code",
      "metadata": {
        "id": "qK0U9eMGI9cx",
        "colab": {
          "base_uri": "https://localhost:8080/",
          "height": 312
        },
        "outputId": "c62f0f66-06a8-4fd6-ce08-785cd171fbea"
      },
      "source": [
        "###### Agregue las lineas de código que considere necesarias para este inciso.\r\n",
        "\r\n",
        "import numpy as np\r\n",
        "import matplotlib.pyplot as plt\r\n",
        "\r\n",
        "t = np.linspace(0,1,100)\r\n",
        "\r\n",
        "x_0 = 2.9\r\n",
        "y_0 = 4\r\n",
        " \r\n",
        "x_1 = 2.8\r\n",
        "y_1 = 4\r\n",
        "\r\n",
        "x_2 =2.8\r\n",
        "y_2 = 8\r\n",
        "\r\n",
        "x_3 = 2.9\r\n",
        "y_3 = 8\r\n",
        "\r\n",
        "x = x_0*(1-t)**3 + 3*x_1*t*(1-t)**2 + 3*x_2*t**2*(1-t) + x_3*t**3\r\n",
        "y = y_0*(1-t)**3 + 3*y_1*t*(1-t)**2 + 3*y_2*t**2*(1-t) + y_3*t**3\r\n",
        "\r\n",
        "\r\n",
        "# Titulo de la gráfica y ejes\r\n",
        "plt.title('Curva de Bezier') \r\n",
        "plt.xlabel('Eje x') \r\n",
        "plt.ylabel('Eje y') \r\n",
        "\r\n",
        "# Gráfica de los Puntos P0, P1, P2, P3  \r\n",
        "x_puntos = [x_0,x_1,x_2,x_3] \r\n",
        "y_puntos = [y_0,y_1,y_2,y_3] \r\n",
        "plt.plot(x_puntos, y_puntos, color='green', linestyle='dashed', linewidth = 3, \r\n",
        "         marker='o', markerfacecolor='blue', markersize=12) \r\n",
        "\r\n",
        "# Curva de Bezier\r\n",
        "plt.plot(x,y,c=(1,0.5,0.5),lw=4)\r\n",
        "\r\n",
        "######"
      ],
      "execution_count": null,
      "outputs": [
        {
          "output_type": "execute_result",
          "data": {
            "text/plain": [
              "[<matplotlib.lines.Line2D at 0x7f804aa21250>]"
            ]
          },
          "metadata": {
            "tags": []
          },
          "execution_count": 36
        },
        {
          "output_type": "display_data",
          "data": {
            "image/png": "[encoded data removed]",
            "text/plain": [
              "<Figure size 432x288 with 1 Axes>"
            ]
          },
          "metadata": {
            "tags": [],
            "needs_background": "light"
          }
        }
      ]
    },
    {
      "cell_type": "markdown",
      "metadata": {
        "id": "9OHsYL13I9lp"
      },
      "source": [
        "4.   Se pueden representar formas más complicadas al unir dos o más curvas de Bézier. Suponga que la primera curva de Bézier tienen puntos de control $P_0$, $P_1$, $P_2$ y $P_3$ y la segunda tiene puntos de control $P_3$, $P_4$, $P_5$ y $P_6$. Si desea unir estos dos trozos \r\n",
        " de manera *suave*, entonces las rectas tangentes en $P_3$ debe corresponderse y, por tanto, los puntos $P_2$, $P_3$ y $P_4$ tiene que estar sobre esta recta tangente común. \r\n",
        " \r\n",
        " \r\n",
        " Grafique las curvas de Bézier que considere necesarias para escribir el **nombre** o **apellido** de algún matemático famoso *(con un mínimo de 6 letras)*. No olvide agregar dichas ecuaciones y\tsu gráfica al reporte. "
      ]
    },
    {
      "cell_type": "code",
      "metadata": {
        "id": "roQrFUOmJfBC",
        "colab": {
          "base_uri": "https://localhost:8080/",
          "height": 312
        },
        "outputId": "bab855b1-cb2a-44d7-b9a8-2896b14a9cff"
      },
      "source": [
        "import numpy as np\r\n",
        "import matplotlib.pyplot as plt\r\n",
        "\r\n",
        "t = np.linspace(0,1,100)\r\n",
        "\r\n",
        "x_0 = 1\r\n",
        "y_0 = 1\r\n",
        " \r\n",
        "x_1 = 0.75\r\n",
        "y_1 = 1\r\n",
        "\r\n",
        "x_2 = 1\r\n",
        "y_2 = 3\r\n",
        "\r\n",
        "x_3 = 2.5\r\n",
        "y_3 = 7\r\n",
        "\r\n",
        "x_4 = 4\r\n",
        "y_4 = 3\r\n",
        " \r\n",
        "x_5 = 4.25\r\n",
        "y_5 = 1\r\n",
        "\r\n",
        "x_6 = 4\r\n",
        "y_6 = 1\r\n",
        "#-------------------------------------------------------\r\n",
        "\r\n",
        "x_i0 = 1\r\n",
        "y_i0 = 1\r\n",
        "\r\n",
        "x_i1 = 1.75\r\n",
        "y_i1 = 1.5\r\n",
        "\r\n",
        "x_i2 = 2\r\n",
        "y_i2 = 3\r\n",
        "\r\n",
        "x_i3 = 2.5\r\n",
        "y_i3 = 3\r\n",
        "\r\n",
        "x_i4 = 3\r\n",
        "y_i4 = 3\r\n",
        " \r\n",
        "x_i5 = 3.25\r\n",
        "y_i5 = 1.5\r\n",
        "\r\n",
        "x_i6 = 4\r\n",
        "y_i6 = 1\r\n",
        "#-------------------------------------------------------\r\n",
        "\r\n",
        "x_j0 = 2\r\n",
        "y_j0 = 4\r\n",
        "\r\n",
        "x_j1 = 2.1\r\n",
        "y_j1 = 4.5\r\n",
        "\r\n",
        "x_j2 = 2.3\r\n",
        "y_j2 = 5\r\n",
        "\r\n",
        "x_j3 = 2.5\r\n",
        "y_j3 = 6\r\n",
        "\r\n",
        "x_j4 = 2.7\r\n",
        "y_j4 = 5\r\n",
        " \r\n",
        "x_j5 = 2.9\r\n",
        "y_j5 = 4.5\r\n",
        "\r\n",
        "x_j6 = 3\r\n",
        "y_j6 = 4\r\n",
        "#-------------------------------------------------------\r\n",
        "\r\n",
        "x_jj0 = 2\r\n",
        "y_jj0 = 4\r\n",
        "\r\n",
        "x_jj1 = 2.25\r\n",
        "y_jj1 = 4.2\r\n",
        "\r\n",
        "x_jj2 = 2.15\r\n",
        "y_jj2 = 4.4\r\n",
        "\r\n",
        "x_jj3 = 2.5\r\n",
        "y_jj3 = 4.5\r\n",
        "\r\n",
        "x_jj4 = 2.65\r\n",
        "y_jj4 = 4.4\r\n",
        " \r\n",
        "x_jj5 = 2.75\r\n",
        "y_jj5 = 4.2\r\n",
        "\r\n",
        "x_jj6 = 3\r\n",
        "y_jj6 = 4\r\n",
        "\r\n",
        "\r\n",
        "x = x_0*(1-t)**3 + 3*x_1*t*(1-t)**2 + 3*x_2*t**2*(1-t) + x_3*t**3\r\n",
        "y = y_0*(1-t)**3 + 3*y_1*t*(1-t)**2 + 3*y_2*t**2*(1-t) + y_3*t**3\r\n",
        "\r\n",
        "x1 = x_3*(1-t)**3 + 3*x_4*t*(1-t)**2 + 3*x_5*t**2*(1-t) + x_6*t**3\r\n",
        "y1= y_3*(1-t)**3 + 3*y_4*t*(1-t)**2 + 3*y_5*t**2*(1-t) + y_6*t**3\r\n",
        "\r\n",
        "xi = x_i0*(1-t)**3 + 3*x_i1*t*(1-t)**2 + 3*x_i2*t**2*(1-t) + x_i3*t**3\r\n",
        "yi= y_i0*(1-t)**3 + 3*y_i1*t*(1-t)**2 + 3*y_i2*t**2*(1-t) + y_i3*t**3\r\n",
        "\r\n",
        "xi1 = x_i3*(1-t)**3 + 3*x_i4*t*(1-t)**2 + 3*x_i5*t**2*(1-t) + x_i6*t**3\r\n",
        "yi1= y_i3*(1-t)**3 + 3*y_i4*t*(1-t)**2 + 3*y_i5*t**2*(1-t) + y_i6*t**3\r\n",
        "\r\n",
        "xj = x_j0*(1-t)**3 + 3*x_j1*t*(1-t)**2 + 3*x_j2*t**2*(1-t) + x_j3*t**3\r\n",
        "yj= y_j0*(1-t)**3 + 3*y_j1*t*(1-t)**2 + 3*y_j2*t**2*(1-t) + y_j3*t**3\r\n",
        "\r\n",
        "xj1 = x_j3*(1-t)**3 + 3*x_j4*t*(1-t)**2 + 3*x_j5*t**2*(1-t) + x_j6*t**3\r\n",
        "yj1 = y_j3*(1-t)**3 + 3*y_j4*t*(1-t)**2 + 3*y_j5*t**2*(1-t) + y_j6*t**3\r\n",
        "\r\n",
        "xjj = x_jj0*(1-t)**3 + 3*x_jj1*t*(1-t)**2 + 3*x_jj2*t**2*(1-t) + x_jj3*t**3\r\n",
        "yjj = y_jj0*(1-t)**3 + 3*y_jj1*t*(1-t)**2 + 3*y_jj2*t**2*(1-t) + y_jj3*t**3\r\n",
        "\r\n",
        "xjj1 = x_jj3*(1-t)**3 + 3*x_jj4*t*(1-t)**2 + 3*x_jj5*t**2*(1-t) + x_jj6*t**3\r\n",
        "yjj1 = y_jj3*(1-t)**3 + 3*y_jj4*t*(1-t)**2 + 3*y_jj5*t**2*(1-t) + y_jj6*t**3\r\n",
        "\r\n",
        "# Titulo de la gráfica y ejes\r\n",
        "plt.title('Curva de Bezier') \r\n",
        "plt.xlabel('Eje x') \r\n",
        "plt.ylabel('Eje y') \r\n",
        "\r\n",
        "# Gráfica de los Puntos P0, P1, P2, P3  \r\n",
        "x_puntos = [x_0,x_1,x_2,x_3] \r\n",
        "y_puntos = [y_0,y_1,y_2,y_3] \r\n",
        "x1_puntos = [x_3,x_4,x_5,x_6] \r\n",
        "y1_puntos = [y_3,y_4,y_5,y_6] \r\n",
        "xi_puntos = [x_i0,x_i1,x_i2,x_i3] \r\n",
        "yi_puntos = [y_i0,y_i1,y_i2,y_i3] \r\n",
        "xi1_puntos = [x_i3,x_i4,x_i5,x_i6] \r\n",
        "yi1_puntos = [y_i3,y_i4,y_i5,y_i6] \r\n",
        "xj_puntos = [x_j0,x_j1,x_j2,x_j3] \r\n",
        "yj_puntos = [y_j0,y_j1,y_j2,y_j3]\r\n",
        "xj1_puntos = [x_j3,x_j4,x_j5,x_j6] \r\n",
        "yj1_puntos = [y_j3,y_j4,y_j5,y_j6]\r\n",
        "xjj_puntos = [x_jj0,x_jj1,x_jj2,x_jj3] \r\n",
        "yjj_puntos = [y_jj0,y_jj1,y_jj2,y_jj3]\r\n",
        "xjj1_puntos = [x_jj3,x_jj4,x_jj5,x_jj6] \r\n",
        "yjj1_puntos = [y_jj3,y_jj4,y_jj5,y_jj6]\r\n",
        "\r\n",
        "\r\n",
        "# Curva de Bezier\r\n",
        "plt.plot(xi1,yi1,c=(1,0.5,0.5),lw=4)\r\n",
        "plt.plot(x,y,c=(1,0.5,0.5),lw=4)\r\n",
        "plt.plot(x1,y1,c=(1,0.5,0.5),lw=4)\r\n",
        "plt.plot(xi,yi,c=(1,0.5,0.5),lw=4)\r\n",
        "plt.plot(xj,yj,c=(1,0.5,0.5),lw=4)\r\n",
        "plt.plot(xj1,yj1,c=(1,0.5,0.5),lw=4)\r\n",
        "plt.plot(xjj,yjj,c=(1,0.5,0.5),lw=4)\r\n",
        "plt.plot(xjj1,yjj1,c=(1,0.5,0.5),lw=4)\r\n",
        "\r\n",
        "\r\n"
      ],
      "execution_count": null,
      "outputs": [
        {
          "output_type": "execute_result",
          "data": {
            "text/plain": [
              "[<matplotlib.lines.Line2D at 0x7fb60f895150>]"
            ]
          },
          "metadata": {
            "tags": []
          },
          "execution_count": 124
        },
        {
          "output_type": "display_data",
          "data": {
            "image/png": "[encoded data removed]",
            "text/plain": [
              "<Figure size 432x288 with 1 Axes>"
            ]
          },
          "metadata": {
            "tags": [],
            "needs_background": "light"
          }
        }
      ]
    },
    {
      "cell_type": "code",
      "metadata": {
        "colab": {
          "base_uri": "https://localhost:8080/",
          "height": 282
        },
        "id": "wZBh8GpCQxau",
        "outputId": "e8d304b3-37d2-4688-b21e-e853f9a4f5d7"
      },
      "source": [
        "import numpy as np\r\n",
        "import matplotlib.pyplot as plt\r\n",
        "\r\n",
        "t = np.linspace(0,1,100)\r\n",
        "\r\n",
        "x_d0 = 5.2\r\n",
        "y_d0 = 1\r\n",
        " \r\n",
        "x_d1 = 5\r\n",
        "y_d1 = 1\r\n",
        "\r\n",
        "x_d2 = 5\r\n",
        "y_d2 = 3\r\n",
        "\r\n",
        "x_d3 = 5.25\r\n",
        "y_d3 = 6\r\n",
        "\r\n",
        "x_d4 = 5.5\r\n",
        "y_d4 = 7\r\n",
        " \r\n",
        "x_d5 = 6.8\r\n",
        "y_d5 = 7\r\n",
        "\r\n",
        "x_d6 = 7\r\n",
        "y_d6 = 5\r\n",
        "#-------------------------------------------------------\r\n",
        "\r\n",
        "x_e0 = 8.8\r\n",
        "y_e0 = 1\r\n",
        "\r\n",
        "x_e1 = 9\r\n",
        "y_e1 = 1\r\n",
        "\r\n",
        "x_e2 = 9\r\n",
        "y_e2 = 3\r\n",
        "\r\n",
        "x_e3 = 8.75\r\n",
        "y_e3 = 6\r\n",
        "\r\n",
        "x_e4 = 8.5\r\n",
        "y_e4 = 7\r\n",
        " \r\n",
        "x_e5 = 7.2\r\n",
        "y_e5 = 7\r\n",
        "\r\n",
        "x_e6 = 7\r\n",
        "y_e6 = 5\r\n",
        "#-------------------------------------------------------\r\n",
        "\r\n",
        "x_f0 = 5.65\r\n",
        "y_f0 = 1\r\n",
        "\r\n",
        "x_f1 = 5.95\r\n",
        "y_f1 = 1\r\n",
        "\r\n",
        "x_f2 = 5.95\r\n",
        "y_f2 = 3\r\n",
        "\r\n",
        "x_f3 = 5.95\r\n",
        "y_f3 = 4\r\n",
        "\r\n",
        "x_f4 = 6.1\r\n",
        "y_f4 = 5\r\n",
        " \r\n",
        "x_f5 = 6.85\r\n",
        "y_f5 = 4.5\r\n",
        "\r\n",
        "x_f6 = 7\r\n",
        "y_f6 = 4\r\n",
        "#-------------------------------------------------------\r\n",
        "\r\n",
        "x_g0 = 8.75\r\n",
        "y_g0 = 1\r\n",
        "\r\n",
        "x_g1 = 8\r\n",
        "y_g1 = 1\r\n",
        "\r\n",
        "x_g2 = 8\r\n",
        "y_g2 = 3\r\n",
        "\r\n",
        "x_g3 = 8\r\n",
        "y_g3 = 4\r\n",
        "\r\n",
        "x_g4 = 7.85\r\n",
        "y_g4 = 5\r\n",
        " \r\n",
        "x_g5 = 7.15\r\n",
        "y_g5 = 4.5\r\n",
        "\r\n",
        "x_g6 = 7\r\n",
        "y_g6 = 4\r\n",
        "\r\n",
        "\r\n",
        "xd = x_d0*(1-t)**3 + 3*x_d1*t*(1-t)**2 + 3*x_d2*t**2*(1-t) + x_d3*t**3\r\n",
        "yd = y_d0*(1-t)**3 + 3*y_d1*t*(1-t)**2 + 3*y_d2*t**2*(1-t) + y_d3*t**3\r\n",
        "\r\n",
        "xd1 = x_d3*(1-t)**3 + 3*x_d4*t*(1-t)**2 + 3*x_d5*t**2*(1-t) + x_d6*t**3\r\n",
        "yd1= y_d3*(1-t)**3 + 3*y_d4*t*(1-t)**2 + 3*y_d5*t**2*(1-t) + y_d6*t**3\r\n",
        "\r\n",
        "xe = x_e0*(1-t)**3 + 3*x_e1*t*(1-t)**2 + 3*x_e2*t**2*(1-t) + x_e3*t**3\r\n",
        "ye= y_e0*(1-t)**3 + 3*y_e1*t*(1-t)**2 + 3*y_e2*t**2*(1-t) + y_e3*t**3\r\n",
        "\r\n",
        "xe1 = x_e3*(1-t)**3 + 3*x_e4*t*(1-t)**2 + 3*x_e5*t**2*(1-t) + x_e6*t**3\r\n",
        "ye1= y_e3*(1-t)**3 + 3*y_e4*t*(1-t)**2 + 3*y_e5*t**2*(1-t) + y_e6*t**3\r\n",
        "\r\n",
        "xf = x_f0*(1-t)**3 + 3*x_f1*t*(1-t)**2 + 3*x_f2*t**2*(1-t) + x_f3*t**3\r\n",
        "yf= y_f0*(1-t)**3 + 3*y_f1*t*(1-t)**2 + 3*y_f2*t**2*(1-t) + y_f3*t**3\r\n",
        "\r\n",
        "xf1 = x_f3*(1-t)**3 + 3*x_f4*t*(1-t)**2 + 3*x_f5*t**2*(1-t) + x_f6*t**3\r\n",
        "yf1 = y_f3*(1-t)**3 + 3*y_f4*t*(1-t)**2 + 3*y_f5*t**2*(1-t) + y_f6*t**3\r\n",
        "\r\n",
        "xg = x_g0*(1-t)**3 + 3*x_g1*t*(1-t)**2 + 3*x_g2*t**2*(1-t) + x_g3*t**3\r\n",
        "yg = y_g0*(1-t)**3 + 3*y_g1*t*(1-t)**2 + 3*y_g2*t**2*(1-t) + y_g3*t**3\r\n",
        "\r\n",
        "xg1 = x_g3*(1-t)**3 + 3*x_g4*t*(1-t)**2 + 3*x_g5*t**2*(1-t) + x_g6*t**3\r\n",
        "yg1 = y_g3*(1-t)**3 + 3*y_g4*t*(1-t)**2 + 3*y_g5*t**2*(1-t) + y_g6*t**3\r\n",
        "\r\n",
        "# Gráfica de los Puntos P0, P1, P2, P3  \r\n",
        "xd_puntos = [x_d0,x_d1,x_d2,x_d3] \r\n",
        "yd_puntos = [y_d0,y_d1,y_d2,y_d3] \r\n",
        "xd1_puntos = [x_d3,x_d4,x_d5,x_d6] \r\n",
        "yd1_puntos = [y_d3,y_d4,y_d5,y_d6] \r\n",
        "xe_puntos = [x_e0,x_e1,x_e2,x_e3] \r\n",
        "ye_puntos = [y_e0,y_e1,y_e2,y_e3] \r\n",
        "xe1_puntos = [x_e3,x_e4,x_e5,x_e6] \r\n",
        "ye1_puntos = [y_e3,y_e4,y_e5,y_e6] \r\n",
        "xf_puntos = [x_f0,x_f1,x_f2,x_f3] \r\n",
        "yf_puntos = [y_f0,y_f1,y_f2,y_f3]\r\n",
        "xf1_puntos = [x_f3,x_f4,x_f5,x_f6] \r\n",
        "yf1_puntos = [y_f3,y_f4,y_f5,y_f6]\r\n",
        "xg_puntos = [x_g0,x_g1,x_g2,x_g3] \r\n",
        "yg_puntos = [y_g0,y_g1,y_g2,y_g3]\r\n",
        "xg1_puntos = [x_g3,x_g4,x_g5,x_g6] \r\n",
        "yg1_puntos = [y_g3,y_g4,y_g5,y_g6]\r\n",
        "\r\n",
        "plt.plot(xd_puntos, yd_puntos, xd1_puntos, yd1_puntos, xe_puntos, ye_puntos, xe1_puntos, ye1_puntos, \r\n",
        "         xf_puntos, yf_puntos, xf1_puntos, yf1_puntos,\r\n",
        "          xg_puntos, yg_puntos, xg1_puntos, yg1_puntos,color='green', linestyle='dashed', linewidth = 3, \r\n",
        "         marker='o', markerfacecolor='blue', markersize=12) \r\n",
        "\r\n",
        "# Curva de Bezier\r\n",
        "plt.plot(xe1,ye1,c=(1,0.5,0.5),lw=4)\r\n",
        "plt.plot(xd,yd,c=(1,0.5,0.5),lw=4)\r\n",
        "plt.plot(xd1,yd1,c=(1,0.5,0.5),lw=4)\r\n",
        "plt.plot(xe,ye,c=(1,0.5,0.5),lw=4)\r\n",
        "plt.plot(xf,yf,c=(1,0.5,0.5),lw=4)\r\n",
        "plt.plot(xf1,yf1,c=(1,0.5,0.5),lw=4)\r\n",
        "plt.plot(xg,yg,c=(1,0.5,0.5),lw=4)\r\n",
        "plt.plot(xg1,yg1,c=(1,0.5,0.5),lw=4)"
      ],
      "execution_count": null,
      "outputs": [
        {
          "output_type": "execute_result",
          "data": {
            "text/plain": [
              "[<matplotlib.lines.Line2D at 0x7fb60e8dcfd0>]"
            ]
          },
          "metadata": {
            "tags": []
          },
          "execution_count": 151
        },
        {
          "output_type": "display_data",
          "data": {
            "image/png": "[encoded data removed]",
            "text/plain": [
              "<Figure size 432x288 with 1 Axes>"
            ]
          },
          "metadata": {
            "tags": [],
            "needs_background": "light"
          }
        }
      ]
    },
    {
      "cell_type": "code",
      "metadata": {
        "colab": {
          "base_uri": "https://localhost:8080/",
          "height": 312
        },
        "id": "m7DHRJxmY3Ng",
        "outputId": "5b96a236-de0e-4d0b-9875-a3bdf2e94d03"
      },
      "source": [
        "import numpy as np\r\n",
        "import matplotlib.pyplot as plt\r\n",
        "\r\n",
        "t = np.linspace(0,1,100)\r\n",
        "\r\n",
        "x_h0 = 8\r\n",
        "y_h0 = 1\r\n",
        " \r\n",
        "x_h1 = 8\r\n",
        "y_h1 = 1\r\n",
        "\r\n",
        "x_h2 = 8\r\n",
        "y_h2 = 3\r\n",
        "\r\n",
        "x_h3 = 8\r\n",
        "y_h3 = 6\r\n",
        "\r\n",
        "x_h4 = 8.10\r\n",
        "y_h4 = 6.5\r\n",
        " \r\n",
        "x_h5 = 9.20\r\n",
        "y_h5 = 7\r\n",
        "\r\n",
        "x_h6 =9.5\r\n",
        "y_h6 = 6.5\r\n",
        "#-------------------------------------------------------\r\n",
        "\r\n",
        "x_i0 = 8\r\n",
        "y_i0 = 1\r\n",
        "\r\n",
        "x_i1 = 9\r\n",
        "y_i1 = 1\r\n",
        "\r\n",
        "x_i2 = 9\r\n",
        "y_i2 = 1\r\n",
        "\r\n",
        "x_i3 = 9\r\n",
        "y_i3 = 4\r\n",
        "\r\n",
        "x_i4 = 10.1\r\n",
        "y_i4 = 3.8\r\n",
        " \r\n",
        "x_i5 = 10.15\r\n",
        "y_i5 = 3.5\r\n",
        "\r\n",
        "x_i6 = 10.2\r\n",
        "y_i6 = 3.8\r\n",
        "#-------------------------------------------------------\r\n",
        "\r\n",
        "x_j0 = 9.5\r\n",
        "y_j0 = 6.5\r\n",
        "\r\n",
        "x_j1 = 10.30\r\n",
        "y_j1 = 6.2\r\n",
        "\r\n",
        "x_j2 = 10.35\r\n",
        "y_j2 = 5.8\r\n",
        "\r\n",
        "x_j3 = 10.35\r\n",
        "y_j3 = 5.5\r\n",
        "\r\n",
        "x_j4 = 10.35\r\n",
        "y_j4 = 4.5\r\n",
        " \r\n",
        "x_j5 = 10.28\r\n",
        "y_j5 = 4\r\n",
        "\r\n",
        "x_j6 = 10.2\r\n",
        "y_j6 = 3.8\r\n",
        "#-------------------------------------------------------\r\n",
        "\r\n",
        "x_k0 = 9.26\r\n",
        "y_k0 = 4.5\r\n",
        "\r\n",
        "x_k1 = 9.25\r\n",
        "y_k1 = 4.7\r\n",
        "\r\n",
        "x_k2 = 9.25\r\n",
        "y_k2 = 5\r\n",
        "\r\n",
        "x_k3 = 9.26\r\n",
        "y_k3 = 5.5\r\n",
        "\r\n",
        "x_k4 = 9.5\r\n",
        "y_k4 = 5.5\r\n",
        " \r\n",
        "x_k5 = 10\r\n",
        "y_k5 = 5\r\n",
        "\r\n",
        "x_k6 = 9.26\r\n",
        "y_k6 = 4.5\r\n",
        "\r\n",
        "\r\n",
        "xh = x_h0*(1-t)**3 + 3*x_h1*t*(1-t)**2 + 3*x_h2*t**2*(1-t) + x_h3*t**3\r\n",
        "yh = y_h0*(1-t)**3 + 3*y_h1*t*(1-t)**2 + 3*y_h2*t**2*(1-t) + y_h3*t**3\r\n",
        "\r\n",
        "xh1 = x_h3*(1-t)**3 + 3*x_h4*t*(1-t)**2 + 3*x_h5*t**2*(1-t) + x_h6*t**3\r\n",
        "yh1= y_h3*(1-t)**3 + 3*y_h4*t*(1-t)**2 + 3*y_h5*t**2*(1-t) + y_h6*t**3\r\n",
        "\r\n",
        "xi = x_i0*(1-t)**3 + 3*x_i1*t*(1-t)**2 + 3*x_i2*t**2*(1-t) + x_i3*t**3\r\n",
        "yi= y_i0*(1-t)**3 + 3*y_i1*t*(1-t)**2 + 3*y_i2*t**2*(1-t) + y_i3*t**3\r\n",
        "\r\n",
        "xi1 = x_i3*(1-t)**3 + 3*x_i4*t*(1-t)**2 + 3*x_i5*t**2*(1-t) + x_i6*t**3\r\n",
        "yi1= y_i3*(1-t)**3 + 3*y_i4*t*(1-t)**2 + 3*y_i5*t**2*(1-t) + y_i6*t**3\r\n",
        "\r\n",
        "xj = x_j0*(1-t)**3 + 3*x_j1*t*(1-t)**2 + 3*x_j2*t**2*(1-t) + x_j3*t**3\r\n",
        "yj= y_j0*(1-t)**3 + 3*y_j1*t*(1-t)**2 + 3*y_j2*t**2*(1-t) + y_j3*t**3\r\n",
        "\r\n",
        "xj1 = x_j3*(1-t)**3 + 3*x_j4*t*(1-t)**2 + 3*x_j5*t**2*(1-t) + x_j6*t**3\r\n",
        "yj1 = y_j3*(1-t)**3 + 3*y_j4*t*(1-t)**2 + 3*y_j5*t**2*(1-t) + y_j6*t**3\r\n",
        "\r\n",
        "xk = x_k0*(1-t)**3 + 3*x_k1*t*(1-t)**2 + 3*x_k2*t**2*(1-t) + x_k3*t**3\r\n",
        "yk = y_k0*(1-t)**3 + 3*y_k1*t*(1-t)**2 + 3*y_k2*t**2*(1-t) + y_k3*t**3\r\n",
        "\r\n",
        "xk1 = x_k3*(1-t)**3 + 3*x_k4*t*(1-t)**2 + 3*x_k5*t**2*(1-t) + x_k6*t**3\r\n",
        "yk1 = y_k3*(1-t)**3 + 3*y_k4*t*(1-t)**2 + 3*y_k5*t**2*(1-t) + y_k6*t**3\r\n",
        "\r\n",
        "# Titulo de la gráfica y ejes\r\n",
        "plt.title('Curva de Bezier') \r\n",
        "plt.xlabel('Eje x') \r\n",
        "plt.ylabel('Eje y') \r\n",
        "\r\n",
        "# Gráfica de los Puntos P0, P1, P2, P3  \r\n",
        "xh_puntos = [x_h0,x_h1,x_h2,x_h3] \r\n",
        "yh_puntos = [y_h0,y_h1,y_h2,y_h3] \r\n",
        "xh1_puntos = [x_h3,x_h4,x_h5,x_h6] \r\n",
        "yh1_puntos = [y_h3,y_h4,y_h5,y_h6] \r\n",
        "xi_puntos = [x_i0,x_i1,x_i2,x_i3] \r\n",
        "yi_puntos = [y_i0,y_i1,y_i2,y_i3] \r\n",
        "xi1_puntos = [x_i3,x_i4,x_i5,x_i6] \r\n",
        "yi1_puntos = [y_i3,y_i4,y_i5,y_i6] \r\n",
        "xj_puntos = [x_j0,x_j1,x_j2,x_j3] \r\n",
        "yj_puntos = [y_j0,y_j1,y_j2,y_j3]\r\n",
        "xj1_puntos = [x_j3,x_j4,x_j5,x_j6] \r\n",
        "yj1_puntos = [y_j3,y_j4,y_j5,y_j6]\r\n",
        "xk_puntos = [x_k0,x_k1,x_k2,x_k3] \r\n",
        "yk_puntos = [y_k0,y_k1,y_k2,y_k3]\r\n",
        "xk1_puntos = [x_k3,x_k4,x_k5,x_k6] \r\n",
        "yk1_puntos = [y_k3,y_k4,y_k5,y_k6]\r\n",
        "\r\n",
        "plt.plot(xh_puntos, yh_puntos, xh1_puntos, yh1_puntos, xi_puntos, yi_puntos, xi1_puntos, yi1_puntos, \r\n",
        "         xj_puntos, yj_puntos, xj1_puntos, yj1_puntos,\r\n",
        "          xk_puntos, yk_puntos, xk1_puntos, yk1_puntos,color='green', linestyle='dashed', linewidth = 3, \r\n",
        "         marker='o', markerfacecolor='blue', markersize=12) \r\n",
        "\r\n",
        "# Curva de Bezier\r\n",
        "plt.plot(xi1,yi1,c=(1,0.5,0.5),lw=4)\r\n",
        "plt.plot(xh,yh,c=(1,0.5,0.5),lw=4)\r\n",
        "plt.plot(xh1,yh1,c=(1,0.5,0.5),lw=4)\r\n",
        "plt.plot(xi,yi,c=(1,0.5,0.5),lw=4)\r\n",
        "plt.plot(xj,yj,c=(1,0.5,0.5),lw=4)\r\n",
        "plt.plot(xj1,yj1,c=(1,0.5,0.5),lw=4)\r\n",
        "plt.plot(xk,yk,c=(1,0.5,0.5),lw=4)\r\n",
        "plt.plot(xk1,yk1,c=(1,0.5,0.5),lw=4)"
      ],
      "execution_count": 2,
      "outputs": [
        {
          "output_type": "execute_result",
          "data": {
            "text/plain": [
              "[<matplotlib.lines.Line2D at 0x7f550ddbff90>]"
            ]
          },
          "metadata": {
            "tags": []
          },
          "execution_count": 2
        },
        {
          "output_type": "display_data",
          "data": {
            "image/png": "[encoded data removed]",
            "text/plain": [
              "<Figure size 432x288 with 1 Axes>"
            ]
          },
          "metadata": {
            "tags": [],
            "needs_background": "light"
          }
        }
      ]
    },
    {
      "cell_type": "code",
      "metadata": {
        "colab": {
          "base_uri": "https://localhost:8080/",
          "height": 312
        },
        "id": "rrINRZueh7K3",
        "outputId": "0607017c-0f55-477c-cf8c-e463cd09cb50"
      },
      "source": [
        "import numpy as np\r\n",
        "import matplotlib.pyplot as plt\r\n",
        "\r\n",
        "t = np.linspace(0,1,100)\r\n",
        "\r\n",
        "x_l0 = 21.1\r\n",
        "y_l0 = 1\r\n",
        " \r\n",
        "x_l1 = 21\r\n",
        "y_l1 = 2\r\n",
        "\r\n",
        "x_l2 = 21\r\n",
        "y_l2 = 5\r\n",
        "\r\n",
        "x_l3 = 21.05\r\n",
        "y_l3 = 6.5\r\n",
        "\r\n",
        "x_l4 = 21.5\r\n",
        "y_l4 = 6.5\r\n",
        " \r\n",
        "x_l5 = 22.8\r\n",
        "y_l5 = 6.5\r\n",
        "\r\n",
        "x_l6 = 22.9\r\n",
        "y_l6 = 6.5\r\n",
        "#-------------------------------------------------------\r\n",
        "\r\n",
        "x_m0 = 22.9\r\n",
        "y_m0 = 6.5\r\n",
        "\r\n",
        "x_m1 = 22.9\r\n",
        "y_m1 = 4\r\n",
        "\r\n",
        "x_m2 = 22.8\r\n",
        "y_m2 = 5\r\n",
        "\r\n",
        "x_m3 = 21.5\r\n",
        "y_m3 = 5\r\n",
        "\r\n",
        "x_m4 = 21.5\r\n",
        "y_m4 = 4\r\n",
        " \r\n",
        "x_m5 = 22.8\r\n",
        "y_m5 = 4\r\n",
        "\r\n",
        "x_m6 = 22.9\r\n",
        "y_m6 = 4\r\n",
        "#-------------------------------------------------------\r\n",
        "\r\n",
        "x_n0 = 22.9\r\n",
        "y_n0 = 4\r\n",
        "\r\n",
        "x_n1 = 22.9\r\n",
        "y_n1 = 3\r\n",
        "\r\n",
        "x_n2 = 22.8\r\n",
        "y_n2 = 3\r\n",
        "\r\n",
        "x_n3 = 21.5\r\n",
        "y_n3 = 3\r\n",
        "\r\n",
        "x_n4 = 21.5\r\n",
        "y_n4 = 2\r\n",
        " \r\n",
        "x_n5 = 22.8\r\n",
        "y_n5 = 2\r\n",
        "\r\n",
        "x_n6 = 22.9\r\n",
        "y_n6 = 2\r\n",
        "#-------------------------------------------------------\r\n",
        "\r\n",
        "x_o0 = 22.9\r\n",
        "y_o0 = 2\r\n",
        "\r\n",
        "x_o1 = 22.9\r\n",
        "y_o1 = 1\r\n",
        "\r\n",
        "x_o2 = 22.8\r\n",
        "y_o2 = 1\r\n",
        "\r\n",
        "x_o3 = 21.1\r\n",
        "y_o3 = 1\r\n",
        "#-------------------------------------------------------\r\n",
        "\r\n",
        "\r\n",
        "xl = x_l0*(1-t)**3 + 3*x_l1*t*(1-t)**2 + 3*x_l2*t**2*(1-t) + x_l3*t**3\r\n",
        "yl = y_l0*(1-t)**3 + 3*y_l1*t*(1-t)**2 + 3*y_l2*t**2*(1-t) + y_l3*t**3\r\n",
        "\r\n",
        "xl1 = x_l3*(1-t)**3 + 3*x_l4*t*(1-t)**2 + 3*x_l5*t**2*(1-t) + x_l6*t**3\r\n",
        "yl1= y_l3*(1-t)**3 + 3*y_l4*t*(1-t)**2 + 3*y_l5*t**2*(1-t) + y_l6*t**3\r\n",
        "\r\n",
        "xm = x_m0*(1-t)**3 + 3*x_m1*t*(1-t)**2 + 3*x_m2*t**2*(1-t) + x_m3*t**3\r\n",
        "ym= y_m0*(1-t)**3 + 3*y_m1*t*(1-t)**2 + 3*y_m2*t**2*(1-t) + y_m3*t**3\r\n",
        "\r\n",
        "xm1 = x_m3*(1-t)**3 + 3*x_m4*t*(1-t)**2 + 3*x_m5*t**2*(1-t) + x_m6*t**3\r\n",
        "ym1= y_m3*(1-t)**3 + 3*y_m4*t*(1-t)**2 + 3*y_m5*t**2*(1-t) + y_m6*t**3\r\n",
        "\r\n",
        "xn = x_n0*(1-t)**3 + 3*x_n1*t*(1-t)**2 + 3*x_n2*t**2*(1-t) + x_n3*t**3\r\n",
        "yn= y_n0*(1-t)**3 + 3*y_n1*t*(1-t)**2 + 3*y_n2*t**2*(1-t) + y_n3*t**3\r\n",
        "\r\n",
        "xn1 = x_n3*(1-t)**3 + 3*x_n4*t*(1-t)**2 + 3*x_n5*t**2*(1-t) + x_n6*t**3\r\n",
        "yn1 = y_n3*(1-t)**3 + 3*y_n4*t*(1-t)**2 + 3*y_n5*t**2*(1-t) + y_n6*t**3\r\n",
        "\r\n",
        "xo = x_o0*(1-t)**3 + 3*x_o1*t*(1-t)**2 + 3*x_o2*t**2*(1-t) + x_o3*t**3\r\n",
        "yo = y_o0*(1-t)**3 + 3*y_o1*t*(1-t)**2 + 3*y_o2*t**2*(1-t) + y_o3*t**3\r\n",
        "\r\n",
        "\r\n",
        "# Titulo de la gráfica y ejes\r\n",
        "plt.title('Curva de Bezier') \r\n",
        "plt.xlabel('Eje x') \r\n",
        "plt.ylabel('Eje y') \r\n",
        "\r\n",
        "# Gráfica de los Puntos P0, P1, P2, P3  \r\n",
        "xl_puntos = [x_l0,x_l1,x_l2,x_l3] \r\n",
        "yl_puntos = [y_l0,y_l1,y_l2,y_l3] \r\n",
        "xl1_puntos = [x_l3,x_l4,x_l5,x_l6] \r\n",
        "yl1_puntos = [y_l3,y_l4,y_l5,y_l6] \r\n",
        "xm_puntos = [x_m0,x_m1,x_m2,x_m3] \r\n",
        "ym_puntos = [y_m0,y_m1,y_m2,y_m3] \r\n",
        "xm1_puntos = [x_m3,x_m4,x_m5,x_m6] \r\n",
        "ym1_puntos = [y_m3,y_m4,y_m5,y_m6] \r\n",
        "xn_puntos = [x_n0,x_n1,x_n2,x_n3] \r\n",
        "yn_puntos = [y_n0,y_n1,y_n2,y_n3]\r\n",
        "xn1_puntos = [x_n3,x_n4,x_n5,x_n6] \r\n",
        "yn1_puntos = [y_n3,y_n4,y_n5,y_n6]\r\n",
        "xo_puntos = [x_o0,x_o1,x_o2,x_o3] \r\n",
        "yo_puntos = [y_o0,y_o1,y_o2,y_o3]\r\n",
        "\r\n",
        "\r\n",
        "plt.plot(xl_puntos, yl_puntos, xl1_puntos, yl1_puntos, xm_puntos, ym_puntos, xm1_puntos, ym1_puntos, \r\n",
        "         xn_puntos, yn_puntos, xn1_puntos, yn1_puntos,\r\n",
        "          xo_puntos, yo_puntos,color='green', linestyle='dashed', linewidth = 3, \r\n",
        "         marker='o', markerfacecolor='blue', markersize=12) \r\n",
        "\r\n",
        "# Curva de Bezier\r\n",
        "plt.plot(xm1,ym1,c=(1,0.5,0.5),lw=4)\r\n",
        "plt.plot(xl,yl,c=(1,0.5,0.5),lw=4)\r\n",
        "plt.plot(xl1,yl1,c=(1,0.5,0.5),lw=4)\r\n",
        "plt.plot(xm,ym,c=(1,0.5,0.5),lw=4)\r\n",
        "plt.plot(xn,yn,c=(1,0.5,0.5),lw=4)\r\n",
        "plt.plot(xn1,yn1,c=(1,0.5,0.5),lw=4)\r\n",
        "plt.plot(xo,yo,c=(1,0.5,0.5),lw=4)"
      ],
      "execution_count": null,
      "outputs": [
        {
          "output_type": "execute_result",
          "data": {
            "text/plain": [
              "[<matplotlib.lines.Line2D at 0x7fb60e4e7590>]"
            ]
          },
          "metadata": {
            "tags": []
          },
          "execution_count": 158
        },
        {
          "output_type": "display_data",
          "data": {
            "image/png": "[encoded data removed]",
            "text/plain": [
              "<Figure size 432x288 with 1 Axes>"
            ]
          },
          "metadata": {
            "tags": [],
            "needs_background": "light"
          }
        }
      ]
    },
    {
      "cell_type": "code",
      "metadata": {
        "colab": {
          "base_uri": "https://localhost:8080/",
          "height": 312
        },
        "id": "xrDX5LKLHdsI",
        "outputId": "7b77327f-c520-414c-ddf0-b8fc6fb47be4"
      },
      "source": [
        "import numpy as np\r\n",
        "import matplotlib.pyplot as plt\r\n",
        "\r\n",
        "t = np.linspace(0,1,100)\r\n",
        "\r\n",
        "x_p0 = 14\r\n",
        "y_p0 = 1\r\n",
        " \r\n",
        "x_p1 = 14\r\n",
        "y_p1 = 1\r\n",
        "\r\n",
        "x_p2 = 14\r\n",
        "y_p2 = 3\r\n",
        "\r\n",
        "x_p3 = 14\r\n",
        "y_p3 = 6\r\n",
        "\r\n",
        "x_p4 = 15.30\r\n",
        "y_p4 = 6.5\r\n",
        " \r\n",
        "x_p5 = 15.80\r\n",
        "y_p5 = 7\r\n",
        "\r\n",
        "x_p6 = 16.7\r\n",
        "y_p6 = 6.5\r\n",
        "#-------------------------------------------------------\r\n",
        "\r\n",
        "x_q0 = 14\r\n",
        "y_q0 = 1\r\n",
        "\r\n",
        "x_q1 = 15.3\r\n",
        "y_q1 = 1\r\n",
        "\r\n",
        "x_q2 = 15.40\r\n",
        "y_q2 = 1\r\n",
        "\r\n",
        "x_q3 = 15.40\r\n",
        "y_q3 = 4\r\n",
        "\r\n",
        "x_q4 = 15.465\r\n",
        "y_q4 = 3\r\n",
        " \r\n",
        "x_q5 = 15.75\r\n",
        "y_q5 = 2\r\n",
        "\r\n",
        "x_q6 = 15.90\r\n",
        "y_q6 = 1\r\n",
        "#-------------------------------------------------------\r\n",
        "\r\n",
        "x_r0 = 16.7\r\n",
        "y_r0 = 6.5\r\n",
        "\r\n",
        "x_r1 = 16.80\r\n",
        "y_r1 = 6.2\r\n",
        "\r\n",
        "x_r2 = 16.85\r\n",
        "y_r2 = 5.8\r\n",
        "\r\n",
        "x_r3 = 16.85\r\n",
        "y_r3 = 5.5\r\n",
        "\r\n",
        "x_r4 = 16.85\r\n",
        "y_r4 = 4.5\r\n",
        " \r\n",
        "x_r5 = 16.78\r\n",
        "y_r5 = 4\r\n",
        "\r\n",
        "x_r6 = 16.7\r\n",
        "y_r6 = 3.8\r\n",
        "#-------------------------------------------------------\r\n",
        "\r\n",
        "x_s0 = 15.5\r\n",
        "y_s0 = 4.5\r\n",
        "\r\n",
        "x_s1 = 15.5\r\n",
        "y_s1 = 4.7\r\n",
        "\r\n",
        "x_s2 = 15.5\r\n",
        "y_s2 = 5\r\n",
        "\r\n",
        "x_s3 = 15.5\r\n",
        "y_s3 = 5.5\r\n",
        "\r\n",
        "x_s4 = 15.5\r\n",
        "y_s4 = 5.5\r\n",
        " \r\n",
        "x_s5 = 16.7\r\n",
        "y_s5 = 5\r\n",
        "\r\n",
        "x_s6 = 15.5\r\n",
        "y_s6 = 4.5\r\n",
        "#-------------------------------------------------------\r\n",
        "\r\n",
        "x_z0 = 15.9\r\n",
        "y_z0 = 1\r\n",
        "\r\n",
        "x_z1 = 19\r\n",
        "y_z1 = 2\r\n",
        "\r\n",
        "x_z2 = 15.5\r\n",
        "y_z2 = 3\r\n",
        "\r\n",
        "x_z3 = 16.7\r\n",
        "y_z3 = 3.8\r\n",
        "\r\n",
        "\r\n",
        "\r\n",
        "xp = x_p0*(1-t)**3 + 3*x_p1*t*(1-t)**2 + 3*x_p2*t**2*(1-t) + x_p3*t**3\r\n",
        "yp = y_p0*(1-t)**3 + 3*y_p1*t*(1-t)**2 + 3*y_p2*t**2*(1-t) + y_p3*t**3\r\n",
        "\r\n",
        "xp1 = x_p3*(1-t)**3 + 3*x_p4*t*(1-t)**2 + 3*x_p5*t**2*(1-t) + x_p6*t**3\r\n",
        "yp1= y_p3*(1-t)**3 + 3*y_p4*t*(1-t)**2 + 3*y_p5*t**2*(1-t) + y_p6*t**3\r\n",
        "\r\n",
        "xq = x_q0*(1-t)**3 + 3*x_q1*t*(1-t)**2 + 3*x_q2*t**2*(1-t) + x_q3*t**3\r\n",
        "yq= y_q0*(1-t)**3 + 3*y_q1*t*(1-t)**2 + 3*y_q2*t**2*(1-t) + y_q3*t**3\r\n",
        "\r\n",
        "xq1 = x_q3*(1-t)**3 + 3*x_q4*t*(1-t)**2 + 3*x_q5*t**2*(1-t) + x_q6*t**3\r\n",
        "yq1= y_q3*(1-t)**3 + 3*y_q4*t*(1-t)**2 + 3*y_q5*t**2*(1-t) + y_q6*t**3\r\n",
        "\r\n",
        "xr = x_r0*(1-t)**3 + 3*x_r1*t*(1-t)**2 + 3*x_r2*t**2*(1-t) + x_r3*t**3\r\n",
        "yr= y_r0*(1-t)**3 + 3*y_r1*t*(1-t)**2 + 3*y_r2*t**2*(1-t) + y_r3*t**3\r\n",
        "\r\n",
        "xr1 = x_r3*(1-t)**3 + 3*x_r4*t*(1-t)**2 + 3*x_r5*t**2*(1-t) + x_r6*t**3\r\n",
        "yr1 = y_r3*(1-t)**3 + 3*y_r4*t*(1-t)**2 + 3*y_r5*t**2*(1-t) + y_r6*t**3\r\n",
        "\r\n",
        "xs = x_s0*(1-t)**3 + 3*x_s1*t*(1-t)**2 + 3*x_s2*t**2*(1-t) + x_s3*t**3\r\n",
        "ys = y_s0*(1-t)**3 + 3*y_s1*t*(1-t)**2 + 3*y_s2*t**2*(1-t) + y_s3*t**3\r\n",
        "\r\n",
        "xs1 = x_s3*(1-t)**3 + 3*x_s4*t*(1-t)**2 + 3*x_s5*t**2*(1-t) + x_s6*t**3\r\n",
        "ys1 = y_s3*(1-t)**3 + 3*y_s4*t*(1-t)**2 + 3*y_s5*t**2*(1-t) + y_s6*t**3\r\n",
        "\r\n",
        "xz = x_z0*(1-t)**3 + 3*x_z1*t*(1-t)**2 + 3*x_z2*t**2*(1-t) + x_z3*t**3\r\n",
        "yz = y_z0*(1-t)**3 + 3*y_z1*t*(1-t)**2 + 3*y_z2*t**2*(1-t) + y_z3*t**3\r\n",
        "\r\n",
        "# Titulo de la gráfica y ejes\r\n",
        "plt.title('Curva de Bezier') \r\n",
        "plt.xlabel('Eje x') \r\n",
        "plt.ylabel('Eje y') \r\n",
        "\r\n",
        "# Gráfica de los Puntos P0, P1, P2, P3  \r\n",
        "xp_puntos = [x_p0,x_p1,x_p2,x_p3] \r\n",
        "yp_puntos = [y_p0,y_p1,y_p2,y_p3] \r\n",
        "xp1_puntos = [x_p3,x_p4,x_p5,x_p6] \r\n",
        "yp1_puntos = [y_p3,y_p4,y_p5,y_p6] \r\n",
        "xq_puntos = [x_q0,x_q1,x_q2,x_q3] \r\n",
        "yq_puntos = [y_q0,y_q1,y_q2,y_q3] \r\n",
        "xq1_puntos = [x_q3,x_q4,x_q5,x_q6] \r\n",
        "yq1_puntos = [y_q3,y_q4,y_q5,y_q6] \r\n",
        "xr_puntos = [x_r0,x_r1,x_r2,x_r3] \r\n",
        "yr_puntos = [y_r0,y_r1,y_r2,y_r3]\r\n",
        "xr1_puntos = [x_r3,x_r4,x_r5,x_r6] \r\n",
        "yr1_puntos = [y_r3,y_r4,y_r5,y_r6]\r\n",
        "xs_puntos = [x_s0,x_s1,x_s2,x_s3] \r\n",
        "ys_puntos = [y_s0,y_s1,y_s2,y_s3]\r\n",
        "xs1_puntos = [x_s3,x_s4,x_s5,x_s6] \r\n",
        "ys1_puntos = [y_s3,y_s4,y_s5,y_s6]\r\n",
        "xz_puntos = [x_z0,x_z1,x_z2,x_z3] \r\n",
        "yz_puntos = [y_z0,y_z1,y_z2,y_z3]\r\n",
        "\r\n",
        "plt.plot(xp_puntos, yp_puntos, xp1_puntos, yp1_puntos, xq_puntos, yq_puntos, xq1_puntos, yq1_puntos, \r\n",
        "         xr_puntos, yr_puntos, xr1_puntos, yr1_puntos,\r\n",
        "          xs_puntos, ys_puntos, xs1_puntos, ys1_puntos,\r\n",
        "         xz_puntos, yz_puntos,color='green', linestyle='dashed', linewidth = 3, \r\n",
        "         marker='o', markerfacecolor='blue', markersize=12) \r\n",
        "\r\n",
        "# Curva de Bezier\r\n",
        "plt.plot(xq1,yq1,c=(1,0.5,0.5),lw=4)\r\n",
        "plt.plot(xp,yp,c=(1,0.5,0.5),lw=4)\r\n",
        "plt.plot(xp1,yp1,c=(1,0.5,0.5),lw=4)\r\n",
        "plt.plot(xq,yq,c=(1,0.5,0.5),lw=4)\r\n",
        "plt.plot(xr,yr,c=(1,0.5,0.5),lw=4)\r\n",
        "plt.plot(xr1,yr1,c=(1,0.5,0.5),lw=4)\r\n",
        "plt.plot(xs,ys,c=(1,0.5,0.5),lw=4)\r\n",
        "plt.plot(xs1,ys1,c=(1,0.5,0.5),lw=4)\r\n",
        "plt.plot(xz,yz,c=(1,0.5,0.5),lw=4)"
      ],
      "execution_count": null,
      "outputs": [
        {
          "output_type": "execute_result",
          "data": {
            "text/plain": [
              "[<matplotlib.lines.Line2D at 0x7fb611445910>]"
            ]
          },
          "metadata": {
            "tags": []
          },
          "execution_count": 75
        },
        {
          "output_type": "display_data",
          "data": {
            "image/png": "[encoded data removed]",
            "text/plain": [
              "<Figure size 432x288 with 1 Axes>"
            ]
          },
          "metadata": {
            "tags": [],
            "needs_background": "light"
          }
        }
      ]
    },
    {
      "cell_type": "code",
      "metadata": {
        "colab": {
          "base_uri": "https://localhost:8080/",
          "height": 312
        },
        "id": "k-rYhtuaU9lK",
        "outputId": "48353f59-85e4-49a3-baf8-656748555beb"
      },
      "source": [
        "import numpy as np\r\n",
        "import matplotlib.pyplot as plt\r\n",
        "\r\n",
        "t = np.linspace(0,1,100)\r\n",
        "\r\n",
        "x_t0 = 21.1\r\n",
        "y_t0 = 1\r\n",
        " \r\n",
        "x_t1 = 21\r\n",
        "y_t1 = 2\r\n",
        "\r\n",
        "x_t2 = 21\r\n",
        "y_t2 = 5\r\n",
        "\r\n",
        "x_t3 = 21.05\r\n",
        "y_t3 = 6\r\n",
        "\r\n",
        "x_t4 = 21.5\r\n",
        "y_t4 = 6\r\n",
        " \r\n",
        "x_t5 = 22.8\r\n",
        "y_t5 = 6\r\n",
        "\r\n",
        "x_t6 = 22.9\r\n",
        "y_t6 = 6\r\n",
        "#-------------------------------------------------------\r\n",
        "\r\n",
        "x_u0 = 22.9\r\n",
        "y_u0 = 6\r\n",
        "\r\n",
        "x_u1 = 22.9\r\n",
        "y_u1 = 4\r\n",
        "\r\n",
        "x_u2 = 22.8\r\n",
        "y_u2 = 5\r\n",
        "\r\n",
        "x_u3 = 21.5\r\n",
        "y_u3 = 5\r\n",
        "\r\n",
        "x_u4 = 21.5\r\n",
        "y_u4 = 4\r\n",
        " \r\n",
        "x_u5 = 22.8\r\n",
        "y_u5 = 4\r\n",
        "\r\n",
        "x_u6 = 22.9\r\n",
        "y_u6 = 4\r\n",
        "#-------------------------------------------------------\r\n",
        "\r\n",
        "x_v0 = 22.9\r\n",
        "y_v0 = 4\r\n",
        "\r\n",
        "x_v1 = 22.9\r\n",
        "y_v1 = 3\r\n",
        "\r\n",
        "x_v2 = 22.8\r\n",
        "y_v2 = 3\r\n",
        "\r\n",
        "x_v3 = 21.5\r\n",
        "y_v3 = 3\r\n",
        "\r\n",
        "x_v4 = 21.5\r\n",
        "y_v4 = 2\r\n",
        " \r\n",
        "x_v5 = 21.8\r\n",
        "y_v5 = 2\r\n",
        "\r\n",
        "x_v6 = 22.9\r\n",
        "y_v6 = 2\r\n",
        "#-------------------------------------------------------\r\n",
        "\r\n",
        "x_w0 = 22.9\r\n",
        "y_w0 = 2\r\n",
        "\r\n",
        "x_w1 = 22.9\r\n",
        "y_w1 = 1\r\n",
        "\r\n",
        "x_w2 = 22.8\r\n",
        "y_w2 = 1\r\n",
        "\r\n",
        "x_w3 = 21.\r\n",
        "y_w3 = 1\r\n",
        "#-------------------------------------------------------\r\n",
        "\r\n",
        "xt = x_t0*(1-t)**3 + 3*x_t1*t*(1-t)**2 + 3*x_t2*t**2*(1-t) + x_t3*t**3\r\n",
        "yt = y_t0*(1-t)**3 + 3*y_t1*t*(1-t)**2 + 3*y_t2*t**2*(1-t) + y_t3*t**3\r\n",
        "\r\n",
        "xt1 = x_t3*(1-t)**3 + 3*x_t4*t*(1-t)**2 + 3*x_t5*t**2*(1-t) + x_t6*t**3\r\n",
        "yt1= y_t3*(1-t)**3 + 3*y_t4*t*(1-t)**2 + 3*y_t5*t**2*(1-t) + y_t6*t**3\r\n",
        "\r\n",
        "xu = x_u0*(1-t)**3 + 3*x_u1*t*(1-t)**2 + 3*x_u2*t**2*(1-t) + x_u3*t**3\r\n",
        "yu= y_u0*(1-t)**3 + 3*y_u1*t*(1-t)**2 + 3*y_u2*t**2*(1-t) + y_u3*t**3\r\n",
        "\r\n",
        "xu1 = x_u3*(1-t)**3 + 3*x_u4*t*(1-t)**2 + 3*x_u5*t**2*(1-t) + x_u6*t**3\r\n",
        "yu1= y_u3*(1-t)**3 + 3*y_u4*t*(1-t)**2 + 3*y_u5*t**2*(1-t) + y_u6*t**3\r\n",
        "\r\n",
        "xv = x_v0*(1-t)**3 + 3*x_v1*t*(1-t)**2 + 3*x_v2*t**2*(1-t) + x_v3*t**3\r\n",
        "yv= y_v0*(1-t)**3 + 3*y_v1*t*(1-t)**2 + 3*y_v2*t**2*(1-t) + y_v3*t**3\r\n",
        "\r\n",
        "xv1 = x_v3*(1-t)**3 + 3*x_v4*t*(1-t)**2 + 3*x_v5*t**2*(1-t) + x_v6*t**3\r\n",
        "yv1 = y_v3*(1-t)**3 + 3*y_v4*t*(1-t)**2 + 3*y_v5*t**2*(1-t) + y_v6*t**3\r\n",
        "\r\n",
        "xw = x_w0*(1-t)**3 + 3*x_w1*t*(1-t)**2 + 3*x_w2*t**2*(1-t) + x_w3*t**3\r\n",
        "yw = y_w0*(1-t)**3 + 3*y_w1*t*(1-t)**2 + 3*y_w2*t**2*(1-t) + y_w3*t**3\r\n",
        "\r\n",
        "# Titulo de la gráfica y ejes\r\n",
        "plt.title('Curva de Bezier') \r\n",
        "plt.xlabel('Eje x') \r\n",
        "plt.ylabel('Eje y') \r\n",
        "\r\n",
        "# Gráfica de los Puntos P0, P1, P2, P3  \r\n",
        "xt_puntos = [x_t0,x_t1,x_t2,x_t3] \r\n",
        "yt_puntos = [y_t0,y_t1,y_t2,y_t3] \r\n",
        "xt1_puntos = [x_t3,x_t4,x_t5,x_t6] \r\n",
        "yt1_puntos = [y_t3,y_t4,y_t5,y_t6] \r\n",
        "xu_puntos = [x_u0,x_u1,x_u2,x_u3] \r\n",
        "yu_puntos = [y_u0,y_u1,y_u2,y_u3] \r\n",
        "xu1_puntos = [x_u3,x_u4,x_u5,x_u6] \r\n",
        "yu1_puntos = [y_u3,y_u4,y_u5,y_u6] \r\n",
        "xv_puntos = [x_v0,x_v1,x_v2,x_v3] \r\n",
        "yv_puntos = [y_v0,y_v1,y_v2,y_v3]\r\n",
        "xv1_puntos = [x_v3,x_v4,x_v5,x_v6] \r\n",
        "yv1_puntos = [y_v3,y_v4,y_v5,y_v6]\r\n",
        "xw_puntos = [x_w0,x_w1,x_w2,x_w3] \r\n",
        "yw_puntos = [y_w0,y_w1,y_w2,y_w3]\r\n",
        "\r\n",
        "\r\n",
        "plt.plot(xt_puntos, yt_puntos, xt1_puntos, yt1_puntos, xu_puntos, yu_puntos, xu1_puntos, yu1_puntos, \r\n",
        "         xv_puntos, yv_puntos, xv1_puntos, yv1_puntos,\r\n",
        "          xw_puntos, yw_puntos,color='green', linestyle='dashed', linewidth = 3, \r\n",
        "         marker='o', markerfacecolor='blue', markersize=12) \r\n",
        "\r\n",
        "# Curva de Bezier\r\n",
        "plt.plot(xu1,yu1,c=(1,0.5,0.5),lw=4)\r\n",
        "plt.plot(xt,yt,c=(1,0.5,0.5),lw=4)\r\n",
        "plt.plot(xt1,yt1,c=(1,0.5,0.5),lw=4)\r\n",
        "plt.plot(xu,yu,c=(1,0.5,0.5),lw=4)\r\n",
        "plt.plot(xv,yv,c=(1,0.5,0.5),lw=4)\r\n",
        "plt.plot(xv1,yv1,c=(1,0.5,0.5),lw=4)\r\n",
        "plt.plot(xw,yw,c=(1,0.5,0.5),lw=4)\r\n"
      ],
      "execution_count": null,
      "outputs": [
        {
          "output_type": "execute_result",
          "data": {
            "text/plain": [
              "[<matplotlib.lines.Line2D at 0x7fb60e24bb90>]"
            ]
          },
          "metadata": {
            "tags": []
          },
          "execution_count": 162
        },
        {
          "output_type": "display_data",
          "data": {
            "image/png": "[encoded data removed]",
            "text/plain": [
              "<Figure size 432x288 with 1 Axes>"
            ]
          },
          "metadata": {
            "tags": [],
            "needs_background": "light"
          }
        }
      ]
    },
    {
      "cell_type": "code",
      "metadata": {
        "id": "S9sCZPrjVDWq"
      },
      "source": [
        ""
      ],
      "execution_count": null,
      "outputs": []
    }
  ]
}